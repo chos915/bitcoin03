{
 "cells": [
  {
   "cell_type": "code",
   "execution_count": 14,
   "id": "1d812129-067d-4f97-8b7f-8bea31a5c387",
   "metadata": {
    "tags": []
   },
   "outputs": [],
   "source": [
    "import pandas as pd\n",
    "import numpy as np\n",
    "import matplotlib.pyplot as plt\n",
    "from keras.models import Sequential\n",
    "from keras.layers import LSTM, Dropout, Dense, Activation\n",
    "\n",
    "import datetime\n",
    "\n",
    "# pandas : csv 파일 로드\n",
    "# numpy : 행렬 연산\n",
    "# matplotlib.pyplot : 데이터 시각화\n",
    "# keras : 딥러닝 모델 작성"
   ]
  },
  {
   "cell_type": "code",
   "execution_count": 15,
   "id": "53671c4d-d8b7-4ea5-b11d-a6f39a9128a8",
   "metadata": {
    "tags": []
   },
   "outputs": [
    {
     "data": {
      "text/html": [
       "<div>\n",
       "<style scoped>\n",
       "    .dataframe tbody tr th:only-of-type {\n",
       "        vertical-align: middle;\n",
       "    }\n",
       "\n",
       "    .dataframe tbody tr th {\n",
       "        vertical-align: top;\n",
       "    }\n",
       "\n",
       "    .dataframe thead th {\n",
       "        text-align: right;\n",
       "    }\n",
       "</style>\n",
       "<table border=\"1\" class=\"dataframe\">\n",
       "  <thead>\n",
       "    <tr style=\"text-align: right;\">\n",
       "      <th></th>\n",
       "      <th>Date</th>\n",
       "      <th>Open</th>\n",
       "      <th>High</th>\n",
       "      <th>Low</th>\n",
       "      <th>Close</th>\n",
       "      <th>Adj Close</th>\n",
       "      <th>Volume</th>\n",
       "    </tr>\n",
       "  </thead>\n",
       "  <tbody>\n",
       "    <tr>\n",
       "      <th>361</th>\n",
       "      <td>2023-03-23</td>\n",
       "      <td>27301.957031</td>\n",
       "      <td>28729.843750</td>\n",
       "      <td>27183.363281</td>\n",
       "      <td>28333.972656</td>\n",
       "      <td>28333.972656</td>\n",
       "      <td>24220433689</td>\n",
       "    </tr>\n",
       "    <tr>\n",
       "      <th>362</th>\n",
       "      <td>2023-03-24</td>\n",
       "      <td>28324.111328</td>\n",
       "      <td>28388.437500</td>\n",
       "      <td>27039.265625</td>\n",
       "      <td>27493.285156</td>\n",
       "      <td>27493.285156</td>\n",
       "      <td>25980310960</td>\n",
       "    </tr>\n",
       "    <tr>\n",
       "      <th>363</th>\n",
       "      <td>2023-03-25</td>\n",
       "      <td>27487.337891</td>\n",
       "      <td>27791.826172</td>\n",
       "      <td>27196.234375</td>\n",
       "      <td>27494.707031</td>\n",
       "      <td>27494.707031</td>\n",
       "      <td>13383005987</td>\n",
       "    </tr>\n",
       "    <tr>\n",
       "      <th>364</th>\n",
       "      <td>2023-03-26</td>\n",
       "      <td>27495.523438</td>\n",
       "      <td>28178.144531</td>\n",
       "      <td>27445.046875</td>\n",
       "      <td>27994.330078</td>\n",
       "      <td>27994.330078</td>\n",
       "      <td>13878363192</td>\n",
       "    </tr>\n",
       "    <tr>\n",
       "      <th>365</th>\n",
       "      <td>2023-03-27</td>\n",
       "      <td>28001.037109</td>\n",
       "      <td>28028.726563</td>\n",
       "      <td>27694.707031</td>\n",
       "      <td>27746.880859</td>\n",
       "      <td>27746.880859</td>\n",
       "      <td>14246617088</td>\n",
       "    </tr>\n",
       "  </tbody>\n",
       "</table>\n",
       "</div>"
      ],
      "text/plain": [
       "           Date          Open          High           Low         Close  \\\n",
       "361  2023-03-23  27301.957031  28729.843750  27183.363281  28333.972656   \n",
       "362  2023-03-24  28324.111328  28388.437500  27039.265625  27493.285156   \n",
       "363  2023-03-25  27487.337891  27791.826172  27196.234375  27494.707031   \n",
       "364  2023-03-26  27495.523438  28178.144531  27445.046875  27994.330078   \n",
       "365  2023-03-27  28001.037109  28028.726563  27694.707031  27746.880859   \n",
       "\n",
       "        Adj Close       Volume  \n",
       "361  28333.972656  24220433689  \n",
       "362  27493.285156  25980310960  \n",
       "363  27494.707031  13383005987  \n",
       "364  27994.330078  13878363192  \n",
       "365  27746.880859  14246617088  "
      ]
     },
     "execution_count": 15,
     "metadata": {},
     "output_type": "execute_result"
    }
   ],
   "source": [
    "# Load Dataset\n",
    "\n",
    "data = pd.read_csv('BTC-USD.csv') # pd.read_csv() : csv 파일 로드\n",
    "data.head() # df.head() : 데이터프레임의 맨 앞 5줄 데이터 출력"
   ]
  },
  {
   "cell_type": "code",
   "execution_count": 16,
   "id": "b32b190b-42d5-4026-b4fc-eba62b3143c4",
   "metadata": {
    "tags": []
   },
   "outputs": [],
   "source": [
    "# Compute Middle Price\n",
    "high_prices = data['High'].values\n",
    "low_prices = data['Low'].values\n",
    "mid_prices = (high_prices + low_prices)/2"
   ]
  },
  {
   "cell_type": "code",
   "execution_count": 17,
   "id": "943b0352-73de-4ed3-8993-1edb91c2038f",
   "metadata": {
    "tags": []
   },
   "outputs": [],
   "source": [
    "# Create Windows\n",
    "seq_len = 50        # seq_len : window size(최근 데이터(50일)를 가지고 다음 데이터를 예측)\n",
    "sequence_length = seq_len + 1\n",
    "\n",
    "result = []\n",
    "for index in range(len(mid_prices) - sequence_length):\n",
    "    result.append(mid_prices[index: index + sequence_length])"
   ]
  },
  {
   "cell_type": "code",
   "execution_count": 18,
   "id": "c6621f7e-3162-4112-a8af-1286d7703e53",
   "metadata": {
    "tags": []
   },
   "outputs": [
    {
     "data": {
      "text/plain": [
       "((284, 50, 1), (31, 50, 1))"
      ]
     },
     "execution_count": 18,
     "metadata": {},
     "output_type": "execute_result"
    }
   ],
   "source": [
    "# Normalize Data\n",
    "normalized_data = []\n",
    "for window in result:\n",
    "    normalized_window = [((float(p)/float(window[0]))-1) for p in window] # window의 0번째 인덱스를 기준으로 정규화(normalization)\n",
    "    normalized_data.append(normalized_window)\n",
    "    \n",
    "result = np.array(normalized_data)\n",
    "\n",
    "# split train and test data\n",
    "row = int(round(result.shape[0]*0.9)) # 전체 데이터의 90% 를 training set으로 지정\n",
    "train = result[:row, :]\n",
    "np.random.shuffle(train) # np.random.shuffle() : 배열의 값을 랜덤으로 섞는다.\n",
    "\n",
    "x_train = train[:, :-1] # x_train 에 50 개의 데이터를 넣고(학습)\n",
    "x_train = np.reshape(x_train, (x_train.shape[0], x_train.shape[1],1))\n",
    "y_train = train[:, -1] # y_train 에 다음데이터 1개 넣음(학습)\n",
    "\n",
    "x_test = result[row:, :-1] # x_test 에 50개의 데이터 넣고(테스트)\n",
    "x_test = np.reshape(x_test, (x_test.shape[0], x_test.shape[1],1))\n",
    "y_test = result[row:, -1] # y_test 에 다음데이터 1개 넣음(테스트)\n",
    "\n",
    "x_train.shape, x_test.shape"
   ]
  },
  {
   "cell_type": "code",
   "execution_count": 19,
   "id": "60e6d3c1-5d29-4c33-b5c7-f736473878ed",
   "metadata": {
    "tags": []
   },
   "outputs": [
    {
     "name": "stdout",
     "output_type": "stream",
     "text": [
      "Model: \"sequential_1\"\n",
      "_________________________________________________________________\n",
      " Layer (type)                Output Shape              Param #   \n",
      "=================================================================\n",
      " lstm_2 (LSTM)               (None, 50, 50)            10400     \n",
      "                                                                 \n",
      " lstm_3 (LSTM)               (None, 64)                29440     \n",
      "                                                                 \n",
      " dense_1 (Dense)             (None, 1)                 65        \n",
      "                                                                 \n",
      "=================================================================\n",
      "Total params: 39,905\n",
      "Trainable params: 39,905\n",
      "Non-trainable params: 0\n",
      "_________________________________________________________________\n"
     ]
    }
   ],
   "source": [
    "# Build a Model\n",
    "model = Sequential() # keras.models.Sequential() : 모델을 순차적으로 정의하는 클래스\n",
    "\n",
    "model.add(LSTM(50, return_sequences=True, input_shape=(50,1))) # keras. layers.LSTM() : LSTM 레이어  # model.add() : 모델에 레이어를 추가한다. \n",
    "\n",
    "model.add(LSTM(64, return_sequences=False))\n",
    "\n",
    "model.add(Dense(1, activation='linear'))\n",
    "\n",
    "model.compile(loss='mse', optimizer='rmsprop') # mse : Mean Squared Error\n",
    "\n",
    "model.summary() # model.summary() : 모델의 개요를 출력한다."
   ]
  },
  {
   "cell_type": "code",
   "execution_count": 20,
   "id": "846d1217-b9d1-4606-b035-6aaf95d3f7ab",
   "metadata": {
    "tags": []
   },
   "outputs": [
    {
     "name": "stdout",
     "output_type": "stream",
     "text": [
      "Epoch 1/20\n",
      "29/29 [==============================] - 14s 185ms/step - loss: 0.0102 - val_loss: 0.0098\n",
      "Epoch 2/20\n",
      "29/29 [==============================] - 2s 75ms/step - loss: 0.0050 - val_loss: 0.0145\n",
      "Epoch 3/20\n",
      "29/29 [==============================] - 2s 83ms/step - loss: 0.0041 - val_loss: 0.0079\n",
      "Epoch 4/20\n",
      "29/29 [==============================] - 2s 63ms/step - loss: 0.0036 - val_loss: 0.0076\n",
      "Epoch 5/20\n",
      "29/29 [==============================] - 3s 87ms/step - loss: 0.0032 - val_loss: 0.0078\n",
      "Epoch 6/20\n",
      "29/29 [==============================] - 2s 81ms/step - loss: 0.0028 - val_loss: 0.0055\n",
      "Epoch 7/20\n",
      "29/29 [==============================] - 2s 85ms/step - loss: 0.0027 - val_loss: 0.0054\n",
      "Epoch 8/20\n",
      "29/29 [==============================] - 2s 78ms/step - loss: 0.0025 - val_loss: 0.0089\n",
      "Epoch 9/20\n",
      "29/29 [==============================] - 2s 86ms/step - loss: 0.0025 - val_loss: 0.0041\n",
      "Epoch 10/20\n",
      "29/29 [==============================] - 2s 75ms/step - loss: 0.0024 - val_loss: 0.0043\n",
      "Epoch 11/20\n",
      "29/29 [==============================] - 3s 87ms/step - loss: 0.0024 - val_loss: 0.0048\n",
      "Epoch 12/20\n",
      "29/29 [==============================] - 2s 85ms/step - loss: 0.0021 - val_loss: 0.0042\n",
      "Epoch 13/20\n",
      "29/29 [==============================] - 2s 85ms/step - loss: 0.0021 - val_loss: 0.0040\n",
      "Epoch 14/20\n",
      "29/29 [==============================] - 2s 75ms/step - loss: 0.0021 - val_loss: 0.0034\n",
      "Epoch 15/20\n",
      "29/29 [==============================] - 2s 84ms/step - loss: 0.0021 - val_loss: 0.0045\n",
      "Epoch 16/20\n",
      "29/29 [==============================] - 2s 65ms/step - loss: 0.0018 - val_loss: 0.0055\n",
      "Epoch 17/20\n",
      "29/29 [==============================] - 2s 80ms/step - loss: 0.0018 - val_loss: 0.0059\n",
      "Epoch 18/20\n",
      "29/29 [==============================] - 3s 88ms/step - loss: 0.0019 - val_loss: 0.0043\n",
      "Epoch 19/20\n",
      "29/29 [==============================] - 2s 66ms/step - loss: 0.0017 - val_loss: 0.0036\n",
      "Epoch 20/20\n",
      "29/29 [==============================] - 2s 81ms/step - loss: 0.0018 - val_loss: 0.0043\n"
     ]
    },
    {
     "data": {
      "text/plain": [
       "<keras.callbacks.History at 0x16ae8f6a1d0>"
      ]
     },
     "execution_count": 20,
     "metadata": {},
     "output_type": "execute_result"
    }
   ],
   "source": [
    "# Training\n",
    "model.fit(x_train, y_train,\n",
    "          validation_data=(x_test, y_test),\n",
    "          batch_size=10,\n",
    "          epochs=20) # model.fit() : 모델을 학습시킨다.\n",
    "                     # batch_size : 한번에 묶어서 학습시킬 개수 \n",
    "                     # epochs : 총 횟수 20 번 "
   ]
  },
  {
   "cell_type": "code",
   "execution_count": 23,
   "id": "747d001e-613a-466d-a83e-199883c00bf7",
   "metadata": {
    "tags": []
   },
   "outputs": [
    {
     "name": "stdout",
     "output_type": "stream",
     "text": [
      "1/1 [==============================] - 0s 113ms/step\n"
     ]
    },
    {
     "data": {
      "image/png": "[encoded data removed]",
      "text/plain": [
       "<Figure size 640x480 with 1 Axes>"
      ]
     },
     "metadata": {},
     "output_type": "display_data"
    }
   ],
   "source": [
    "# Prediction\n",
    "pred = model.predict(x_test) # model.predict() : 모델을 사용하여 예측한다.\n",
    "\n",
    "fig = plt.figure(facecolor='white')\n",
    "ax = fig.add_subplot(111)\n",
    "ax.plot(y_test, label='True')\n",
    "ax.plot(pred, label='Prediction')\n",
    "ax.legend()\n",
    "plt.show()"
   ]
  }
 ],
 "metadata": {
  "kernelspec": {
   "display_name": "Python 3 (ipykernel)",
   "language": "python",
   "name": "python3"
  },
  "language_info": {
   "codemirror_mode": {
    "name": "ipython",
    "version": 3
   },
   "file_extension": ".py",
   "mimetype": "text/x-python",
   "name": "python",
   "nbconvert_exporter": "python",
   "pygments_lexer": "ipython3",
   "version": "3.10.10"
  }
 },
 "nbformat": 4,
 "nbformat_minor": 5
}
